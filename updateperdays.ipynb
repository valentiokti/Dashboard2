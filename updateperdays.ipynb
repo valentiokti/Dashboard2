{
 "cells": [
  {
   "cell_type": "code",
   "execution_count": 2,
   "id": "4a632b1f",
   "metadata": {},
   "outputs": [
    {
     "name": "stdout",
     "output_type": "stream",
     "text": [
      "27/05/2025\n",
      "10/06/2025\n"
     ]
    }
   ],
   "source": [
    "# 1. Import libraries\n",
    "import gspread\n",
    "import pandas as pd\n",
    "import hashlib\n",
    "import os\n",
    "import json\n",
    "import numpy as np\n",
    "import hmac\n",
    "import calendar\n",
    "import requests\n",
    "from google.oauth2 import service_account\n",
    "from datetime import datetime, timezone, timedelta,timezone\n",
    "import toml\n",
    "\n",
    "# 2. Load Google Cloud credentials from .streamlit/secrets.toml\n",
    "with open(\".streamlit/secrets.toml\", \"r\") as f:\n",
    "    secrets = toml.load(f)\n",
    "\n",
    "google_cloud_secrets = secrets[\"google_cloud\"]\n",
    "\n",
    "# Setup credentials\n",
    "creds = service_account.Credentials.from_service_account_info(\n",
    "    google_cloud_secrets,\n",
    "    scopes=[\"https://www.googleapis.com/auth/spreadsheets\", \"https://www.googleapis.com/auth/drive\"]\n",
    ")\n",
    "\n",
    "client = gspread.authorize(creds)\n",
    "\n",
    "# 3. Setup Accurate credentials\n",
    "api_token = \"aat.NTA.eyJ2IjoxLCJ1Ijo4MTk2MTksImQiOjEyMjU0NDUsImFpIjo1NTA3NCwiYWsiOiJjMDU1MTNjZS02ZWJlLTRmZTAtYWQwNC00MGQ1NDQ1OWZmMDEiLCJhbiI6IktyaXN0YWwgQXV0b21hdGlvbiIsImFwIjoiNjQ5YTUyZGItOGY3Ni00NGQyLThmMGQtZGU2MDIwMDUwZGI4IiwidCI6MTc0NDc4MDU0NzcxMH0.QeoDo2DCNvI0V/fVQT2IQP8I6v69GOVMRRjSznGkLXdysVtbR9ZTky2FO45cFgVfwWPlLeeSpYXQrICLExUB0MYzX+BqgtXmm/Eb7vc+lRssKuhUbUdpYomW3WXLQSBUJeiPr5KT1wxaIBOk2PIBH09JqdY5yD94rG56xvy9urlr8km0HbtFeVlf8ScL6zFE/jJv4Nu+njY=.0xJjBtaQRlBRfXntN6r+aITBX6BFwvMLz5IK+eDUrpY\"\n",
    "signature_secret = \"EjESUUVVTg5XYDUF9uzMB3PqgEH2G2Sj4OY54GA3k0QFTkb9J5hktE40RM1heIsf\"\n",
    "\n",
    "# 4. Function untuk membuat signature Accurate\n",
    "def generate_signature(secret_key, timestamp):\n",
    "    payload = timestamp.encode('utf-8')\n",
    "    secret_key = secret_key.encode('utf-8')\n",
    "    hmac_object = hmac.new(secret_key, payload, hashlib.sha256)\n",
    "    return hmac_object.hexdigest()\n",
    "\n",
    "# 5. Fungsi request ke API Accurate\n",
    "def url(endpoint):\n",
    "    host = \"https://zeus.accurate.id\"\n",
    "    full_url = f\"{host}{endpoint}\"\n",
    "    timestamp = datetime.now(timezone.utc).strftime(\"%Y-%m-%dT%H:%M:%SZ\")\n",
    "    signature = generate_signature(signature_secret, timestamp)\n",
    "\n",
    "    headers = {\n",
    "        \"Authorization\": f\"Bearer {api_token}\",\n",
    "        \"X-Api-Timestamp\": timestamp,\n",
    "        \"X-Api-Signature\": signature,\n",
    "        \"X-Language-Profile\": \"US\"\n",
    "    }\n",
    "\n",
    "    response = requests.get(full_url, headers=headers)\n",
    "    return response.json()\n",
    "\n",
    "# 6. Fungsi ambil data dari Google Sheets\n",
    "def get_data_gsheet(spreadsheet_id, sheetname, range_):\n",
    "    all_data = client.open_by_key(spreadsheet_id).worksheet(sheetname).get(range_)\n",
    "    headers = all_data[0]\n",
    "    rows = all_data[1:]\n",
    "    data = [dict(zip(headers, row)) for row in rows]\n",
    "    return data\n",
    "\n",
    "# 7. Fungsi update data ke Google Sheets\n",
    "def update_data(spreadsheet_id, sheetname, df):\n",
    "    sh = client.open_by_key(spreadsheet_id)\n",
    "    worksheet = sh.worksheet(sheetname)\n",
    "    worksheet.clear()\n",
    "    data = [df.columns.tolist()] + df.values.tolist()\n",
    "    data = [[cell if pd.notna(cell) else \"\" for cell in row] for row in data]\n",
    "    worksheet.update('A1', data, value_input_option='USER_ENTERED')\n",
    "\n",
    "# 8. Fungsi untuk ambil seluruh list data dari Accurate (multi-page)\n",
    "def get_all_listdo(endpoint):\n",
    "    page = 1\n",
    "    all_data = []\n",
    "    while True:\n",
    "        data = url(f\"{endpoint}&sp.page={page}\")\n",
    "        datas = data.get('d', [])\n",
    "        if not datas:\n",
    "            print(f\"✅ Halaman {page} kosong, selesai.\")\n",
    "            break\n",
    "        all_data.extend(datas)\n",
    "        page += 1\n",
    "    return all_data\n",
    "\n",
    "# 9. Fungsi ambil detail journal voucher\n",
    "def ambil_detail_journal(data):\n",
    "    hasil = []\n",
    "    for item in data:\n",
    "        journal_id = item['id']\n",
    "        detail = url(f\"/accurate/api/journal-voucher/detail.do?id={journal_id}\")\n",
    "        for line in detail.get('d', {}).get('detailJournalVoucher', []):\n",
    "            hasil.append({\n",
    "                'id': journal_id,\n",
    "                'date': item['transDate'],\n",
    "                'type': line.get('amountType'),\n",
    "                'akun': line.get('glAccount', {}).get('name'),\n",
    "                'nilai': line.get('amount'),\n",
    "                'description': line.get('description'),\n",
    "                'memo': line.get('memo')\n",
    "            })\n",
    "    return hasil\n",
    "\n",
    "today = datetime.today()\n",
    "first_date = today - timedelta(days=14)\n",
    "first_date = first_date.strftime(\"%d/%m/%Y\")\n",
    "last_date = today.strftime(\"%d/%m/%Y\")\n",
    "print(first_date)\n",
    "print(last_date)"
   ]
  },
  {
   "cell_type": "code",
   "execution_count": null,
   "id": "3c8514d3",
   "metadata": {},
   "outputs": [],
   "source": [
    "update_json = get_all_listdo(f\"/accurate/api/journal-voucher/list.do?fields=id,transDate&sp.pageSize=1000000\")\n",
    "update_json_journal = ambil_detail_journal(update_json)\n",
    "df_json_jurnal = pd.DataFrame(update_json_journal)\n",
    "df_json_jurnal['date'] = pd.to_datetime(df_json_jurnal['date'], errors='coerce', format=\"%d/%m/%Y\")\n",
    "df_json_jurnal['date'] = df_json_jurnal['date'].dt.strftime('%-m/%-d/%Y')\n",
    "update_data(\"1cjR6k-OCWmeSfCRS_3b9B3wgQc8a-d_pIvWzcZpz1Uw\",\"JSON\",df_json_jurnal)"
   ]
  },
  {
   "cell_type": "code",
   "execution_count": 10,
   "id": "f86b7ca5",
   "metadata": {},
   "outputs": [],
   "source": [
    "df = pd.DataFrame(get_data_gsheet(\"1cjR6k-OCWmeSfCRS_3b9B3wgQc8a-d_pIvWzcZpz1Uw\", \"JSON\", \"A:H\"))"
   ]
  },
  {
   "cell_type": "code",
   "execution_count": 11,
   "id": "9a12a6f7",
   "metadata": {},
   "outputs": [],
   "source": [
    "df['date'] = pd.to_datetime(df['date'])\n",
    "df['nilai'] = pd.to_numeric(df['nilai'])"
   ]
  },
  {
   "cell_type": "code",
   "execution_count": 12,
   "id": "50c5fdfc",
   "metadata": {},
   "outputs": [],
   "source": [
    "result = df.copy()"
   ]
  },
  {
   "cell_type": "code",
   "execution_count": 13,
   "id": "0f9c157e",
   "metadata": {},
   "outputs": [
    {
     "name": "stderr",
     "output_type": "stream",
     "text": [
      "C:\\Users\\steph\\AppData\\Local\\Temp\\ipykernel_17488\\2977667446.py:72: DeprecationWarning: The order of arguments in worksheet.update() has changed. Please pass values first and range_name secondor used named arguments (range_name=, values=)\n",
      "  worksheet.update('A1', data, value_input_option='USER_ENTERED')\n"
     ]
    }
   ],
   "source": [
    "result['Debit'] = result.apply(lambda x: x['nilai'] if x['type'] == 'DEBIT' else 0, axis=1)\n",
    "result['Credit'] = result.apply(lambda x: x['nilai'] if x['type'] == 'CREDIT' else 0, axis=1)\n",
    "final_google = result[result['akun'].str.contains(\"Driver\")]\n",
    "final_google[final_google['akun'] == 'Driver - Antoni']\n",
    "final_google = result[result['akun'].str.contains(\"Driver\")]\n",
    "final_google = final_google.sort_values('date')\n",
    "final_google['Balance'] = (\n",
    "final_google['Debit'] - final_google['Credit']  # pakai 'Kredit' jika sudah rename\n",
    ").groupby(final_google['akun']).cumsum()\n",
    "final_google['Saldo'] = np.where(final_google['Debit'] == 0, final_google['Credit'] * -1, \n",
    "                                        np.where(final_google['Credit'] == 0, final_google['Debit'], np.nan))\n",
    "\n",
    "# Fill NaN values if needed (optional)\n",
    "final_google['Saldo'] = final_google['Saldo'].fillna(0)\n",
    "final_google['Driver Name'] = final_google['akun'].str.replace('Driver - ', '', regex=False)\n",
    "final_google['date'] = final_google['date'].dt.strftime('%m/%d/%Y')\n",
    "final_google = final_google[['akun', 'Driver Name', 'date', 'memo', 'Debit', 'Credit', 'Balance', 'Saldo']]\n",
    "final_google = final_google.fillna(\"\")\n",
    "final_google.rename(columns={'Credit': 'Kredit', 'akun':'Nama Perkiraan', 'date':'Tanggal', 'memo': 'Deskripsi'}, inplace=True)\n",
    "update_data(\"1cjR6k-OCWmeSfCRS_3b9B3wgQc8a-d_pIvWzcZpz1Uw\",\"Valentio\",final_google)"
   ]
  }
 ],
 "metadata": {
  "kernelspec": {
   "display_name": "Python 3",
   "language": "python",
   "name": "python3"
  },
  "language_info": {
   "codemirror_mode": {
    "name": "ipython",
    "version": 3
   },
   "file_extension": ".py",
   "mimetype": "text/x-python",
   "name": "python",
   "nbconvert_exporter": "python",
   "pygments_lexer": "ipython3",
   "version": "3.13.2"
  }
 },
 "nbformat": 4,
 "nbformat_minor": 5
}
